{
 "cells": [
  {
   "cell_type": "markdown",
   "metadata": {},
   "source": [
    "# Analyse und Plot-Erstellung für die Ergebnisse des Benchmarkings"
   ]
  },
  {
   "cell_type": "code",
   "execution_count": null,
   "metadata": {},
   "outputs": [],
   "source": [
    "from data_reader import *\r\n",
    "import numpy as np\r\n",
    "import pandas as pd\r\n",
    "import matplotlib.pyplot as plt\r\n",
    "from scipy.stats.mstats import gmean\r\n"
   ]
  },
  {
   "cell_type": "code",
   "execution_count": null,
   "metadata": {},
   "outputs": [],
   "source": [
    "random = \"\"\r\n",
    "monotone = \"Mon_\"\r\n",
    "concave = \"Con_\"\r\n",
    "small = \"it10_ints64.csv\"\r\n",
    "big =  \"it20_ints128.csv\"\r\n",
    "step = \"step_\"\r\n",
    "plin = \"plin_\"\r\n",
    "to_first = \"to_first\\\\\"\r\n",
    "to_opt = \"to_opt\\\\\"\r\n",
    "mip_gap = \"mip_gap\\\\\""
   ]
  },
  {
   "cell_type": "code",
   "execution_count": null,
   "metadata": {},
   "outputs": [],
   "source": [
    "# Time to Optimum\r\n",
    "\r\n",
    "path = \"..\\\\data\\\\\" + plin + mip_gap + concave + small\r\n",
    "Searcher = FileSearcher(path)\r\n",
    "\r\n",
    "data_dict_gurobi = {s: Searcher.search_in_file(s, \"gurobi\") for s in Searcher.get_model_strings()}\r\n",
    "data_dict_cplex = {s: Searcher.search_in_file(s, \"cplex\") for s in Searcher.get_model_strings()}\r\n",
    "\r\n",
    "translation = {'IndW': 'Indicator Weak', 'IndS':'Indicator Strong', 'DCC': 'DCC','CC': 'CC','Inc' : 'Incremental Concrete','DLog': 'DLog',  'IndLay': 'Indicator Layered'}\r\n",
    "labels, data = data_dict_gurobi.keys(), data_dict_gurobi.values()\r\n",
    "fit, (ax1, ax2) = plt.subplots(1,2, figsize= (10, 3), sharey=True)\r\n",
    "print(translation.keys())\r\n",
    "ax1.set_ylim(0,10.5)\r\n",
    "ax1.boxplot([data_dict_gurobi[translation[key]] for key in translation.keys()])\r\n",
    "ax1.set_xticks(range(1, len(translation.keys()) + 1))\r\n",
    "ax1.set_xticklabels(translation.keys())\r\n",
    "ax1.set_title(\"Gurobi\")\r\n",
    "ax2.boxplot([data_dict_cplex[translation[key]] for key in translation.keys()])\r\n",
    "ax2.set_xticks(range(1, len(translation.keys()) + 1))\r\n",
    "ax2.set_xticklabels(translation.keys())\r\n",
    "ax2.set_title(\"CPlex\")\r\n",
    "plt.savefig(\"plots\\\\mip_plin_monotone.eps\")\r\n",
    "plt.show()"
   ]
  },
  {
   "cell_type": "code",
   "execution_count": null,
   "metadata": {},
   "outputs": [],
   "source": [
    "# Time to MIP-Gap \r\n",
    "\r\n",
    "path = \"..\\\\data\\\\\" + step + mip_gap + concave + small\r\n",
    "Searcher = FileSearcher(path)\r\n",
    "\r\n",
    "data_dict_gurobi = {s: Searcher.search_in_file(s, \"gurobi\") for s in Searcher.get_model_strings()}\r\n",
    "data_dict_cplex = {s: Searcher.search_in_file(s, \"cplex\") for s in Searcher.get_model_strings()}\r\n",
    "print(data_dict_gurobi.keys())\r\n",
    "#translation = {'IndW': 'Indicator Weak', 'IndS':'Indicator Strong', 'IndSOS': 'Indicator Strong SOS1','IndWS': 'Indicator Strong Weak','Inc' : 'Incremental','Bin1': 'Binary',  'Bin2': 'Binary 2', 'IndLay': 'Indicator Layered'}\r\n",
    "translation = {'IndWS': 'Indicator Strong Weak','Inc' : 'Incremental','Bin1': 'Binary',  'Bin2': 'Binary 2', 'IndLay': 'Indicator Layered'}\r\n",
    "labels, data = data_dict_gurobi.keys(), data_dict_gurobi.values()\r\n",
    "fit, (ax1, ax2) = plt.subplots(1,2, figsize= (13, 3), sharey=True)\r\n",
    "print(translation.keys())\r\n",
    "ax1.set_ylim(0,10.5)\r\n",
    "ax1.boxplot([data_dict_gurobi[translation[key]] for key in translation.keys()])\r\n",
    "ax1.set_xticks(range(1, len(translation.keys()) + 1))\r\n",
    "ax1.set_xticklabels(translation.keys())\r\n",
    "ax1.set_title(\"Gurobi\")\r\n",
    "ax2.boxplot([data_dict_cplex[translation[key]] for key in translation.keys()])\r\n",
    "ax2.set_xticks(range(1, len(translation.keys()) + 1))\r\n",
    "ax2.set_xticklabels(translation.keys())\r\n",
    "ax2.set_title(\"CPlex\")\r\n",
    "plt.savefig(\"plots\\\\mip_step_concave_big.eps\")\r\n",
    "plt.show()"
   ]
  },
  {
   "cell_type": "code",
   "execution_count": null,
   "metadata": {},
   "outputs": [],
   "source": [
    "data_dict_cplex = {s: Searcher.search_in_file(s, \"cplex\") for s in Searcher.get_model_strings()}\r\n",
    "labels, data = data_dict_cplex.keys(), data_dict_cplex.values()\r\n",
    "plt.boxplot(data)\r\n",
    "plt.xticks(range(1, len(labels) + 1), labels, rotation = 90)\r\n",
    "plt.show()"
   ]
  },
  {
   "cell_type": "code",
   "execution_count": null,
   "metadata": {},
   "outputs": [],
   "source": [
    "print(data)"
   ]
  },
  {
   "cell_type": "code",
   "execution_count": null,
   "metadata": {},
   "outputs": [],
   "source": [
    "# Time to MIP-Gap \r\n",
    "\r\n",
    "path = \"..\\\\data\\\\\" + step + to_first + random + small\r\n",
    "Searcher = FileSearcher(path)\r\n",
    "\r\n",
    "data_dict_gurobi = {s: Searcher.search_in_file(s, \"gurobi\") for s in Searcher.get_model_strings()}\r\n",
    "translation = {'IndW': 'Indicator Weak', 'IndS':'Indicator Strong', 'IndSOS': 'Indicator Strong SOS1','IndWS': 'Indicator Strong Weak','Inc' : 'Incremental','Bin1': 'Binary',  'Bin2': 'Binary 2', 'IndLay': 'Indicator Layered'}\r\n",
    "translation2 = {'IndWS': 'Indicator Strong Weak','Inc' : 'Incremental','Bin1': 'Binary',  'Bin2': 'Binary 2', 'IndLay': 'Indicator Layered'}\r\n",
    "labels, data = data_dict_gurobi.keys(), data_dict_gurobi.values()\r\n",
    "fit, (ax1, ax2) = plt.subplots(1,2, figsize= (13, 3), sharey=True)\r\n",
    "print(translation.keys())\r\n",
    "ax1.set_ylim(0,10.5)\r\n",
    "ax1.boxplot([data_dict_gurobi[translation[key]] for key in translation.keys()])\r\n",
    "ax1.set_xticks(range(1, len(translation.keys()) + 1))\r\n",
    "ax1.set_xticklabels(translation.keys())\r\n",
    "ax1.set_title(\"Gurobi, vollständig zufällig\")\r\n",
    "path = \"..\\\\data\\\\\" + step + to_first + concave + small\r\n",
    "Searcher = FileSearcher(path)\r\n",
    "data_dict_gurobi = {s: Searcher.search_in_file(s, \"gurobi\") for s in Searcher.get_model_strings()}\r\n",
    "ax2.boxplot([data_dict_gurobi[translation2[key]] for key in translation2.keys()])\r\n",
    "ax2.set_xticks(range(1, len(translation2.keys()) + 1))\r\n",
    "ax2.set_xticklabels(translation2.keys())\r\n",
    "ax2.set_title(\"Gurobi, annähernd konkav\")\r\n",
    "plt.savefig(\"plots\\\\first_step_random_concave.eps\")\r\n",
    "plt.show()"
   ]
  },
  {
   "cell_type": "code",
   "execution_count": null,
   "metadata": {},
   "outputs": [],
   "source": [
    "# Time to MIP-Gap \r\n",
    "\r\n",
    "path = \"..\\\\data\\\\\" + plin + to_first + random + small\r\n",
    "Searcher = FileSearcher(path)\r\n",
    "\r\n",
    "data_dict_gurobi = {s: Searcher.search_in_file(s, \"gurobi\") for s in Searcher.get_model_strings()}\r\n",
    "translation = {'IndW': 'Indicator Weak', 'IndS':'Indicator Strong', 'DCC': 'DCC','CC': 'CC','Inc' : 'Incremental Concrete','DLog': 'DLog',  'IndLay': 'Indicator Layered'}\r\n",
    "labels, data = data_dict_gurobi.keys(), data_dict_gurobi.values()\r\n",
    "fit, (ax1, ax2) = plt.subplots(1,2, figsize= (13, 3), sharey=True)\r\n",
    "print(translation.keys())\r\n",
    "ax1.set_ylim(0,1)\r\n",
    "ax1.boxplot([data_dict_gurobi[translation[key]] for key in translation.keys()])\r\n",
    "ax1.set_xticks(range(1, len(translation.keys()) + 1))\r\n",
    "ax1.set_xticklabels(translation.keys())\r\n",
    "ax1.set_title(\"Gurobi, vollständig zufällig\")\r\n",
    "path = \"..\\\\data\\\\\" + plin + to_first + concave + small\r\n",
    "Searcher = FileSearcher(path)\r\n",
    "data_dict_gurobi = {s: Searcher.search_in_file(s, \"gurobi\") for s in Searcher.get_model_strings()}\r\n",
    "ax2.boxplot([data_dict_gurobi[translation[key]] for key in translation.keys()])\r\n",
    "ax2.set_xticks(range(1, len(translation.keys()) + 1))\r\n",
    "ax2.set_xticklabels(translation.keys())\r\n",
    "ax2.set_title(\"Gurobi, konkav\")\r\n",
    "plt.savefig(\"plots\\\\first_plin_random_concave.eps\")\r\n",
    "plt.show()"
   ]
  },
  {
   "cell_type": "code",
   "execution_count": null,
   "metadata": {},
   "outputs": [],
   "source": [
    "path = \"../data/increase_n_ints/Con_it10_ints\"\r\n",
    "n_array = [16,32,64,128,256]\r\n",
    "Searchers = [FileSearcher(path+str(n)+\".csv\") for n in n_array]\r\n",
    "translation = { 'IndS':'Indicator Strong','Inc' : 'Incremental Concrete','DLog': 'DLog'}\r\n",
    "data_dicts_gurobi = [{s: Searcher.search_in_file(s, \"gurobi\") for s in Searcher.get_model_strings()} for Searcher in Searchers]\r\n",
    "data_dicts_cplex = [{s: Searcher.search_in_file(s, \"cplex\") for s in Searcher.get_model_strings()} for Searcher in Searchers]\r\n",
    "fig, ax = plt.subplots(2,len(n_array),figsize= (13, 6), sharey = True, constrained_layout=True)\r\n",
    "for i, data_dict in enumerate(data_dicts_gurobi):\r\n",
    "    ax[0,i].boxplot([data_dict[translation[key]] for key in translation.keys()])\r\n",
    "    ax[0,i].set_xticks(range(1, len(translation.keys()) + 1))\r\n",
    "    ax[0,i].set_xticklabels(translation.keys())\r\n",
    "    ax[0,i].set_title(\"Gurobi, n = \" + str(n_array[i]))\r\n",
    "for i, data_dict in enumerate(data_dicts_cplex):\r\n",
    "    ax[1,i].boxplot([data_dict[translation[key]] for key in translation.keys()])\r\n",
    "    ax[1,i].set_xticks(range(1, len(translation.keys()) + 1))\r\n",
    "    ax[1,i].set_xticklabels(translation.keys())\r\n",
    "    ax[1,i].set_title(\"Cplex, n = \" + str(n_array[i]))\r\n",
    "plt.savefig(\"plots\\\\increase_n_ints.eps\")\r\n",
    "plt.show()"
   ]
  },
  {
   "cell_type": "code",
   "execution_count": null,
   "metadata": {},
   "outputs": [],
   "source": [
    "path = \"../data/increase_N_its/Con_it\"\r\n",
    "N_array = [4,8,16,32]\r\n",
    "Searchers = [FileSearcher(path+str(n)+\"_ints32.csv\") for n in N_array]\r\n",
    "translation = { 'IndS':'Indicator Strong','Inc' : 'Incremental Concrete','DLog': 'DLog'}\r\n",
    "data_dicts_gurobi = [{s: Searcher.search_in_file(s, \"gurobi\") for s in Searcher.get_model_strings()} for Searcher in Searchers]\r\n",
    "data_dicts_cplex = [{s: Searcher.search_in_file(s, \"cplex\") for s in Searcher.get_model_strings()} for Searcher in Searchers]\r\n",
    "fig, ax = plt.subplots(2,len(N_array),figsize= (13, 6), sharey = True, constrained_layout=True)\r\n",
    "for i, data_dict in enumerate(data_dicts_gurobi):\r\n",
    "    ax[0,i].boxplot([data_dict[translation[key]] for key in translation.keys()])\r\n",
    "    ax[0,i].set_xticks(range(1, len(translation.keys()) + 1))\r\n",
    "    ax[0,i].set_xticklabels(translation.keys())\r\n",
    "    ax[0,i].set_title(\"Gurobi, n = \" + str(N_array[i]))\r\n",
    "for i, data_dict in enumerate(data_dicts_cplex):\r\n",
    "    ax[1,i].boxplot([data_dict[translation[key]] for key in translation.keys()])\r\n",
    "    ax[1,i].set_xticks(range(1, len(translation.keys()) + 1))\r\n",
    "    ax[1,i].set_xticklabels(translation.keys())\r\n",
    "    ax[1,i].set_title(\"Cplex, n = \" + str(N_array[i]))\r\n",
    "plt.savefig(\"plots\\\\increase_N_its.eps\")\r\n",
    "plt.show()"
   ]
  },
  {
   "cell_type": "markdown",
   "metadata": {},
   "source": []
  },
  {
   "cell_type": "code",
   "execution_count": null,
   "metadata": {},
   "outputs": [],
   "source": [
    "path = \"../data/increase_n_ints/Con_it10_ints\"\r\n",
    "n_array = [16,32,64,128,256]\r\n",
    "Searchers = [FileSearcher(path+str(n)+\".csv\") for n in n_array]\r\n",
    "translation = { 'IndS':'Indicator Strong','Inc' : 'Incremental Concrete','DLog': 'DLog'}\r\n",
    "data_dicts_cplex = [{s: Searcher.search_in_file(s, \"cplex\") for s in Searcher.get_model_strings()} for Searcher in Searchers]\r\n",
    "means_ind = [gmean(data_dict['Indicator Strong']) for data_dict in data_dicts_cplex]\r\n",
    "means_inc = [gmean(data_dict['Incremental Concrete']) for data_dict in data_dicts_cplex]\r\n",
    "means_dlog = [gmean(data_dict['DLog']) for data_dict in data_dicts_cplex]\r\n",
    "plt.plot(range(5), np.array(means_ind), ls = \"-\", label = 'IndS')\r\n",
    "plt.plot(range(5), np.array(means_inc), ls = \"--\", label = 'Inc')\r\n",
    "plt.plot(range(5), np.array(means_dlog), ls = \":\", label = 'DLog')\r\n",
    "plt.ylabel(\"Logarithmus, Zeit\")\r\n",
    "plt.yscale(\"log\")\r\n",
    "plt.xlabel(\"n\")\r\n",
    "plt.title(\"Cplex\")\r\n",
    "plt.legend()\r\n",
    "plt.xticks(ticks=range(5), labels=n_array)\r\n",
    "print(data_dict['Indicator Strong'])\r\n",
    "print(data_dict['Incremental Concrete'])\r\n",
    "plt.savefig(\"plots\\\\increase_geometric_mean.eps\")"
   ]
  },
  {
   "cell_type": "code",
   "execution_count": null,
   "metadata": {},
   "outputs": [],
   "source": []
  }
 ],
 "metadata": {
  "interpreter": {
   "hash": "effb30a3648d6bba7219cf7ff42c8310e8161593672df8a5ba26ee183777bff7"
  },
  "kernelspec": {
   "display_name": "Python 3.8.8 64-bit ('bachelorarbeit': conda)",
   "name": "python3"
  },
  "language_info": {
   "name": "python",
   "version": ""
  },
  "orig_nbformat": 4
 },
 "nbformat": 4,
 "nbformat_minor": 2
}